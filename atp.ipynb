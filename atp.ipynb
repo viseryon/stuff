{
 "cells": [
  {
   "cell_type": "code",
   "execution_count": 1,
   "metadata": {},
   "outputs": [],
   "source": [
    "import pandas as pd\n",
    "import sklearn\n",
    "import matplotlib.pyplot as plt"
   ]
  },
  {
   "cell_type": "code",
   "execution_count": 2,
   "metadata": {},
   "outputs": [],
   "source": [
    "players = pd.read_csv('ao_players.csv')\n",
    "data = pd.read_csv('data_prepared.csv')"
   ]
  },
  {
   "cell_type": "code",
   "execution_count": 5,
   "metadata": {},
   "outputs": [
    {
     "data": {
      "text/plain": [
       "Index(['surface', 'tourney_level', 'player_hand', 'player_ht', 'player_age',\n",
       "       'opponent_hand', 'opponent_ht', 'opponent_age', 'best_of', 'player_ace',\n",
       "       'player_df', 'player_svpt', 'player_1stIn', 'player_1stWon',\n",
       "       'player_2ndWon', 'player_SvGms', 'player_bpSaved', 'player_bpFaced',\n",
       "       'opponent_ace', 'opponent_df', 'opponent_svpt', 'opponent_1stIn',\n",
       "       'opponent_1stWon', 'opponent_2ndWon', 'opponent_SvGms',\n",
       "       'opponent_bpSaved', 'opponent_bpFaced', 'player_rank', 'opponent_rank',\n",
       "       'result'],\n",
       "      dtype='object')"
      ]
     },
     "execution_count": 5,
     "metadata": {},
     "output_type": "execute_result"
    }
   ],
   "source": [
    "data.columns"
   ]
  },
  {
   "cell_type": "code",
   "execution_count": 4,
   "metadata": {},
   "outputs": [],
   "source": [
    "from sklearn.model_selection import train_test_split"
   ]
  },
  {
   "cell_type": "code",
   "execution_count": 5,
   "metadata": {},
   "outputs": [],
   "source": [
    "y = data.result\n",
    "x = data.drop(columns=['result'])\n",
    "x_train, x_test, y_train, y_test = train_test_split(x, y, test_size=0.15, shuffle=True, random_state=42)"
   ]
  },
  {
   "cell_type": "code",
   "execution_count": 6,
   "metadata": {},
   "outputs": [
    {
     "data": {
      "text/plain": [
       "((15310, 29), (2702, 29), (15310,), (2702,))"
      ]
     },
     "execution_count": 6,
     "metadata": {},
     "output_type": "execute_result"
    }
   ],
   "source": [
    "x_train.shape, x_test.shape, y_train.shape, y_test.shape"
   ]
  },
  {
   "cell_type": "markdown",
   "metadata": {},
   "source": [
    "models"
   ]
  },
  {
   "cell_type": "code",
   "execution_count": 7,
   "metadata": {},
   "outputs": [],
   "source": [
    "from sklearn.preprocessing import StandardScaler, OneHotEncoder\n",
    "from sklearn.pipeline import Pipeline\n",
    "from sklearn.compose import ColumnTransformer"
   ]
  },
  {
   "cell_type": "code",
   "execution_count": 8,
   "metadata": {},
   "outputs": [],
   "source": [
    "from sklearn.dummy import DummyClassifier\n",
    "from sklearn.linear_model import LogisticRegression\n",
    "from sklearn.linear_model import SGDClassifier\n",
    "from sklearn.svm import SVC\n",
    "from sklearn.tree import DecisionTreeClassifier\n",
    "from sklearn.neighbors import KNeighborsClassifier\n",
    "from sklearn.ensemble import RandomForestClassifier\n",
    "\n",
    "from sklearn.model_selection import GridSearchCV"
   ]
  },
  {
   "cell_type": "code",
   "execution_count": 9,
   "metadata": {},
   "outputs": [],
   "source": [
    "cat_cols = ['surface', 'tourney_level', 'player_hand', 'opponent_hand']\n",
    "num_cols = [col for col in data.columns if col not in cat_cols and col != 'result']"
   ]
  },
  {
   "cell_type": "code",
   "execution_count": 10,
   "metadata": {},
   "outputs": [],
   "source": [
    "clf_pipe = Pipeline(\n",
    "    [\n",
    "        (\n",
    "            \"col_trf\",\n",
    "            ColumnTransformer(\n",
    "                transformers=[\n",
    "                    (\"num\", StandardScaler(), num_cols),\n",
    "                    (\"cat\", OneHotEncoder(sparse_output=False), cat_cols),\n",
    "                ]\n",
    "            ),\n",
    "        ),\n",
    "        (\"clf\", DummyClassifier()),\n",
    "    ]\n",
    ")"
   ]
  },
  {
   "cell_type": "code",
   "execution_count": 11,
   "metadata": {},
   "outputs": [],
   "source": [
    "clf_param_grid = [\n",
    "    {\n",
    "        \"clf\": [LogisticRegression(max_iter=300)],\n",
    "        \"clf__tol\": [0.0001, 0.001, 0.01],\n",
    "        \"clf__C\": [0.1, 0.5, 0.75, 1, 1.25],\n",
    "    },\n",
    "    {\n",
    "        \"clf\": [SGDClassifier(max_iter=300)],\n",
    "        \"clf__penalty\": [\"l2\", \"l1\", \"elasticnet\"],\n",
    "        \"clf__tol\": [0.0001, 0.001, 0.01],\n",
    "        \"clf__l1_ratio\": [0.1, 0.5, 1],\n",
    "        \"clf__alpha\": [0.1, 0.5, 1],\n",
    "    },\n",
    "    {\n",
    "        \"clf\": [SVC(probability=True)],\n",
    "        \"clf__C\": [0.5, 1, 2],\n",
    "        \"clf__tol\": [0.0001, 0.001, 0.01],\n",
    "        \"clf__kernel\": [\"linear\", \"poly\", \"rbf\", \"sigmoid\"],\n",
    "    },\n",
    "    {\n",
    "        \"clf\": [DecisionTreeClassifier()],\n",
    "        'clf__max_depth': [5, 20, 100, 200, 500],\n",
    "        'clf__min_samples_split': [2, 5, 20] ,\n",
    "        'clf__min_samples_leaf': [1, 5, 20] ,\n",
    "        'clf__max_features': ['auto', 'sqrt', 'log2'],\n",
    "    },\n",
    "    {\"clf\": [KNeighborsClassifier()]},\n",
    "    {\n",
    "        \"clf\": [RandomForestClassifier()],\n",
    "        'clf__n_estimators': [100, 200, 500, 1_000, 2_000],\n",
    "        'clf__max_depth': [5, 20, 100, 200, 500],\n",
    "        'clf__min_samples_split': [2, 5, 20] ,\n",
    "        'clf__min_samples_leaf': [1, 5, 20],\n",
    "        'clf__max_features': ['auto', 'sqrt', 'log2'],\n",
    "    },\n",
    "]"
   ]
  },
  {
   "cell_type": "code",
   "execution_count": 12,
   "metadata": {},
   "outputs": [],
   "source": [
    "model = GridSearchCV(\n",
    "    estimator=clf_pipe,\n",
    "    param_grid=clf_param_grid,\n",
    "    scoring='accuracy',\n",
    "    n_jobs=-1,\n",
    "    cv=3,\n",
    "    refit=True,\n",
    "    error_score='raise',\n",
    "    verbose=1\n",
    ")"
   ]
  },
  {
   "cell_type": "code",
   "execution_count": 13,
   "metadata": {},
   "outputs": [
    {
     "name": "stdout",
     "output_type": "stream",
     "text": [
      "Fitting 3 folds for each of 943 candidates, totalling 2829 fits\n"
     ]
    }
   ],
   "source": [
    "model.fit(x_train, y_train)"
   ]
  },
  {
   "cell_type": "code",
   "execution_count": null,
   "metadata": {},
   "outputs": [
    {
     "data": {
      "text/html": [
       "<style>#sk-container-id-2 {color: black;}#sk-container-id-2 pre{padding: 0;}#sk-container-id-2 div.sk-toggleable {background-color: white;}#sk-container-id-2 label.sk-toggleable__label {cursor: pointer;display: block;width: 100%;margin-bottom: 0;padding: 0.3em;box-sizing: border-box;text-align: center;}#sk-container-id-2 label.sk-toggleable__label-arrow:before {content: \"▸\";float: left;margin-right: 0.25em;color: #696969;}#sk-container-id-2 label.sk-toggleable__label-arrow:hover:before {color: black;}#sk-container-id-2 div.sk-estimator:hover label.sk-toggleable__label-arrow:before {color: black;}#sk-container-id-2 div.sk-toggleable__content {max-height: 0;max-width: 0;overflow: hidden;text-align: left;background-color: #f0f8ff;}#sk-container-id-2 div.sk-toggleable__content pre {margin: 0.2em;color: black;border-radius: 0.25em;background-color: #f0f8ff;}#sk-container-id-2 input.sk-toggleable__control:checked~div.sk-toggleable__content {max-height: 200px;max-width: 100%;overflow: auto;}#sk-container-id-2 input.sk-toggleable__control:checked~label.sk-toggleable__label-arrow:before {content: \"▾\";}#sk-container-id-2 div.sk-estimator input.sk-toggleable__control:checked~label.sk-toggleable__label {background-color: #d4ebff;}#sk-container-id-2 div.sk-label input.sk-toggleable__control:checked~label.sk-toggleable__label {background-color: #d4ebff;}#sk-container-id-2 input.sk-hidden--visually {border: 0;clip: rect(1px 1px 1px 1px);clip: rect(1px, 1px, 1px, 1px);height: 1px;margin: -1px;overflow: hidden;padding: 0;position: absolute;width: 1px;}#sk-container-id-2 div.sk-estimator {font-family: monospace;background-color: #f0f8ff;border: 1px dotted black;border-radius: 0.25em;box-sizing: border-box;margin-bottom: 0.5em;}#sk-container-id-2 div.sk-estimator:hover {background-color: #d4ebff;}#sk-container-id-2 div.sk-parallel-item::after {content: \"\";width: 100%;border-bottom: 1px solid gray;flex-grow: 1;}#sk-container-id-2 div.sk-label:hover label.sk-toggleable__label {background-color: #d4ebff;}#sk-container-id-2 div.sk-serial::before {content: \"\";position: absolute;border-left: 1px solid gray;box-sizing: border-box;top: 0;bottom: 0;left: 50%;z-index: 0;}#sk-container-id-2 div.sk-serial {display: flex;flex-direction: column;align-items: center;background-color: white;padding-right: 0.2em;padding-left: 0.2em;position: relative;}#sk-container-id-2 div.sk-item {position: relative;z-index: 1;}#sk-container-id-2 div.sk-parallel {display: flex;align-items: stretch;justify-content: center;background-color: white;position: relative;}#sk-container-id-2 div.sk-item::before, #sk-container-id-2 div.sk-parallel-item::before {content: \"\";position: absolute;border-left: 1px solid gray;box-sizing: border-box;top: 0;bottom: 0;left: 50%;z-index: -1;}#sk-container-id-2 div.sk-parallel-item {display: flex;flex-direction: column;z-index: 1;position: relative;background-color: white;}#sk-container-id-2 div.sk-parallel-item:first-child::after {align-self: flex-end;width: 50%;}#sk-container-id-2 div.sk-parallel-item:last-child::after {align-self: flex-start;width: 50%;}#sk-container-id-2 div.sk-parallel-item:only-child::after {width: 0;}#sk-container-id-2 div.sk-dashed-wrapped {border: 1px dashed gray;margin: 0 0.4em 0.5em 0.4em;box-sizing: border-box;padding-bottom: 0.4em;background-color: white;}#sk-container-id-2 div.sk-label label {font-family: monospace;font-weight: bold;display: inline-block;line-height: 1.2em;}#sk-container-id-2 div.sk-label-container {text-align: center;}#sk-container-id-2 div.sk-container {/* jupyter's `normalize.less` sets `[hidden] { display: none; }` but bootstrap.min.css set `[hidden] { display: none !important; }` so we also need the `!important` here to be able to override the default hidden behavior on the sphinx rendered scikit-learn.org. See: https://github.com/scikit-learn/scikit-learn/issues/21755 */display: inline-block !important;position: relative;}#sk-container-id-2 div.sk-text-repr-fallback {display: none;}</style><div id=\"sk-container-id-2\" class=\"sk-top-container\"><div class=\"sk-text-repr-fallback\"><pre>Pipeline(steps=[(&#x27;col_trf&#x27;,\n",
       "                 ColumnTransformer(transformers=[(&#x27;num&#x27;, StandardScaler(),\n",
       "                                                  [&#x27;player_ht&#x27;, &#x27;player_age&#x27;,\n",
       "                                                   &#x27;opponent_ht&#x27;,\n",
       "                                                   &#x27;opponent_age&#x27;, &#x27;best_of&#x27;,\n",
       "                                                   &#x27;player_ace&#x27;, &#x27;player_df&#x27;,\n",
       "                                                   &#x27;player_svpt&#x27;,\n",
       "                                                   &#x27;player_1stIn&#x27;,\n",
       "                                                   &#x27;player_1stWon&#x27;,\n",
       "                                                   &#x27;player_2ndWon&#x27;,\n",
       "                                                   &#x27;player_SvGms&#x27;,\n",
       "                                                   &#x27;player_bpSaved&#x27;,\n",
       "                                                   &#x27;player_bpFaced&#x27;,\n",
       "                                                   &#x27;opponent_ace&#x27;,\n",
       "                                                   &#x27;opponent_df&#x27;,\n",
       "                                                   &#x27;opponent_svpt&#x27;,\n",
       "                                                   &#x27;opponent_1stIn&#x27;,\n",
       "                                                   &#x27;opponent_1stWon&#x27;,\n",
       "                                                   &#x27;opponent_2ndWon&#x27;,\n",
       "                                                   &#x27;opponent_SvGms&#x27;,\n",
       "                                                   &#x27;opponent_bpSaved&#x27;,\n",
       "                                                   &#x27;opponent_bpFaced&#x27;,\n",
       "                                                   &#x27;player_rank&#x27;,\n",
       "                                                   &#x27;opponent_rank&#x27;]),\n",
       "                                                 (&#x27;cat&#x27;,\n",
       "                                                  OneHotEncoder(sparse_output=False),\n",
       "                                                  [&#x27;surface&#x27;, &#x27;tourney_level&#x27;,\n",
       "                                                   &#x27;player_hand&#x27;,\n",
       "                                                   &#x27;opponent_hand&#x27;])])),\n",
       "                (&#x27;clf&#x27;, LogisticRegression(max_iter=300))])</pre><b>In a Jupyter environment, please rerun this cell to show the HTML representation or trust the notebook. <br />On GitHub, the HTML representation is unable to render, please try loading this page with nbviewer.org.</b></div><div class=\"sk-container\" hidden><div class=\"sk-item sk-dashed-wrapped\"><div class=\"sk-label-container\"><div class=\"sk-label sk-toggleable\"><input class=\"sk-toggleable__control sk-hidden--visually\" id=\"sk-estimator-id-9\" type=\"checkbox\" ><label for=\"sk-estimator-id-9\" class=\"sk-toggleable__label sk-toggleable__label-arrow\">Pipeline</label><div class=\"sk-toggleable__content\"><pre>Pipeline(steps=[(&#x27;col_trf&#x27;,\n",
       "                 ColumnTransformer(transformers=[(&#x27;num&#x27;, StandardScaler(),\n",
       "                                                  [&#x27;player_ht&#x27;, &#x27;player_age&#x27;,\n",
       "                                                   &#x27;opponent_ht&#x27;,\n",
       "                                                   &#x27;opponent_age&#x27;, &#x27;best_of&#x27;,\n",
       "                                                   &#x27;player_ace&#x27;, &#x27;player_df&#x27;,\n",
       "                                                   &#x27;player_svpt&#x27;,\n",
       "                                                   &#x27;player_1stIn&#x27;,\n",
       "                                                   &#x27;player_1stWon&#x27;,\n",
       "                                                   &#x27;player_2ndWon&#x27;,\n",
       "                                                   &#x27;player_SvGms&#x27;,\n",
       "                                                   &#x27;player_bpSaved&#x27;,\n",
       "                                                   &#x27;player_bpFaced&#x27;,\n",
       "                                                   &#x27;opponent_ace&#x27;,\n",
       "                                                   &#x27;opponent_df&#x27;,\n",
       "                                                   &#x27;opponent_svpt&#x27;,\n",
       "                                                   &#x27;opponent_1stIn&#x27;,\n",
       "                                                   &#x27;opponent_1stWon&#x27;,\n",
       "                                                   &#x27;opponent_2ndWon&#x27;,\n",
       "                                                   &#x27;opponent_SvGms&#x27;,\n",
       "                                                   &#x27;opponent_bpSaved&#x27;,\n",
       "                                                   &#x27;opponent_bpFaced&#x27;,\n",
       "                                                   &#x27;player_rank&#x27;,\n",
       "                                                   &#x27;opponent_rank&#x27;]),\n",
       "                                                 (&#x27;cat&#x27;,\n",
       "                                                  OneHotEncoder(sparse_output=False),\n",
       "                                                  [&#x27;surface&#x27;, &#x27;tourney_level&#x27;,\n",
       "                                                   &#x27;player_hand&#x27;,\n",
       "                                                   &#x27;opponent_hand&#x27;])])),\n",
       "                (&#x27;clf&#x27;, LogisticRegression(max_iter=300))])</pre></div></div></div><div class=\"sk-serial\"><div class=\"sk-item sk-dashed-wrapped\"><div class=\"sk-label-container\"><div class=\"sk-label sk-toggleable\"><input class=\"sk-toggleable__control sk-hidden--visually\" id=\"sk-estimator-id-10\" type=\"checkbox\" ><label for=\"sk-estimator-id-10\" class=\"sk-toggleable__label sk-toggleable__label-arrow\">col_trf: ColumnTransformer</label><div class=\"sk-toggleable__content\"><pre>ColumnTransformer(transformers=[(&#x27;num&#x27;, StandardScaler(),\n",
       "                                 [&#x27;player_ht&#x27;, &#x27;player_age&#x27;, &#x27;opponent_ht&#x27;,\n",
       "                                  &#x27;opponent_age&#x27;, &#x27;best_of&#x27;, &#x27;player_ace&#x27;,\n",
       "                                  &#x27;player_df&#x27;, &#x27;player_svpt&#x27;, &#x27;player_1stIn&#x27;,\n",
       "                                  &#x27;player_1stWon&#x27;, &#x27;player_2ndWon&#x27;,\n",
       "                                  &#x27;player_SvGms&#x27;, &#x27;player_bpSaved&#x27;,\n",
       "                                  &#x27;player_bpFaced&#x27;, &#x27;opponent_ace&#x27;,\n",
       "                                  &#x27;opponent_df&#x27;, &#x27;opponent_svpt&#x27;,\n",
       "                                  &#x27;opponent_1stIn&#x27;, &#x27;opponent_1stWon&#x27;,\n",
       "                                  &#x27;opponent_2ndWon&#x27;, &#x27;opponent_SvGms&#x27;,\n",
       "                                  &#x27;opponent_bpSaved&#x27;, &#x27;opponent_bpFaced&#x27;,\n",
       "                                  &#x27;player_rank&#x27;, &#x27;opponent_rank&#x27;]),\n",
       "                                (&#x27;cat&#x27;, OneHotEncoder(sparse_output=False),\n",
       "                                 [&#x27;surface&#x27;, &#x27;tourney_level&#x27;, &#x27;player_hand&#x27;,\n",
       "                                  &#x27;opponent_hand&#x27;])])</pre></div></div></div><div class=\"sk-parallel\"><div class=\"sk-parallel-item\"><div class=\"sk-item\"><div class=\"sk-label-container\"><div class=\"sk-label sk-toggleable\"><input class=\"sk-toggleable__control sk-hidden--visually\" id=\"sk-estimator-id-11\" type=\"checkbox\" ><label for=\"sk-estimator-id-11\" class=\"sk-toggleable__label sk-toggleable__label-arrow\">num</label><div class=\"sk-toggleable__content\"><pre>[&#x27;player_ht&#x27;, &#x27;player_age&#x27;, &#x27;opponent_ht&#x27;, &#x27;opponent_age&#x27;, &#x27;best_of&#x27;, &#x27;player_ace&#x27;, &#x27;player_df&#x27;, &#x27;player_svpt&#x27;, &#x27;player_1stIn&#x27;, &#x27;player_1stWon&#x27;, &#x27;player_2ndWon&#x27;, &#x27;player_SvGms&#x27;, &#x27;player_bpSaved&#x27;, &#x27;player_bpFaced&#x27;, &#x27;opponent_ace&#x27;, &#x27;opponent_df&#x27;, &#x27;opponent_svpt&#x27;, &#x27;opponent_1stIn&#x27;, &#x27;opponent_1stWon&#x27;, &#x27;opponent_2ndWon&#x27;, &#x27;opponent_SvGms&#x27;, &#x27;opponent_bpSaved&#x27;, &#x27;opponent_bpFaced&#x27;, &#x27;player_rank&#x27;, &#x27;opponent_rank&#x27;]</pre></div></div></div><div class=\"sk-serial\"><div class=\"sk-item\"><div class=\"sk-estimator sk-toggleable\"><input class=\"sk-toggleable__control sk-hidden--visually\" id=\"sk-estimator-id-12\" type=\"checkbox\" ><label for=\"sk-estimator-id-12\" class=\"sk-toggleable__label sk-toggleable__label-arrow\">StandardScaler</label><div class=\"sk-toggleable__content\"><pre>StandardScaler()</pre></div></div></div></div></div></div><div class=\"sk-parallel-item\"><div class=\"sk-item\"><div class=\"sk-label-container\"><div class=\"sk-label sk-toggleable\"><input class=\"sk-toggleable__control sk-hidden--visually\" id=\"sk-estimator-id-13\" type=\"checkbox\" ><label for=\"sk-estimator-id-13\" class=\"sk-toggleable__label sk-toggleable__label-arrow\">cat</label><div class=\"sk-toggleable__content\"><pre>[&#x27;surface&#x27;, &#x27;tourney_level&#x27;, &#x27;player_hand&#x27;, &#x27;opponent_hand&#x27;]</pre></div></div></div><div class=\"sk-serial\"><div class=\"sk-item\"><div class=\"sk-estimator sk-toggleable\"><input class=\"sk-toggleable__control sk-hidden--visually\" id=\"sk-estimator-id-14\" type=\"checkbox\" ><label for=\"sk-estimator-id-14\" class=\"sk-toggleable__label sk-toggleable__label-arrow\">OneHotEncoder</label><div class=\"sk-toggleable__content\"><pre>OneHotEncoder(sparse_output=False)</pre></div></div></div></div></div></div></div></div><div class=\"sk-item\"><div class=\"sk-estimator sk-toggleable\"><input class=\"sk-toggleable__control sk-hidden--visually\" id=\"sk-estimator-id-15\" type=\"checkbox\" ><label for=\"sk-estimator-id-15\" class=\"sk-toggleable__label sk-toggleable__label-arrow\">LogisticRegression</label><div class=\"sk-toggleable__content\"><pre>LogisticRegression(max_iter=300)</pre></div></div></div></div></div></div></div>"
      ],
      "text/plain": [
       "Pipeline(steps=[('col_trf',\n",
       "                 ColumnTransformer(transformers=[('num', StandardScaler(),\n",
       "                                                  ['player_ht', 'player_age',\n",
       "                                                   'opponent_ht',\n",
       "                                                   'opponent_age', 'best_of',\n",
       "                                                   'player_ace', 'player_df',\n",
       "                                                   'player_svpt',\n",
       "                                                   'player_1stIn',\n",
       "                                                   'player_1stWon',\n",
       "                                                   'player_2ndWon',\n",
       "                                                   'player_SvGms',\n",
       "                                                   'player_bpSaved',\n",
       "                                                   'player_bpFaced',\n",
       "                                                   'opponent_ace',\n",
       "                                                   'opponent_df',\n",
       "                                                   'opponent_svpt',\n",
       "                                                   'opponent_1stIn',\n",
       "                                                   'opponent_1stWon',\n",
       "                                                   'opponent_2ndWon',\n",
       "                                                   'opponent_SvGms',\n",
       "                                                   'opponent_bpSaved',\n",
       "                                                   'opponent_bpFaced',\n",
       "                                                   'player_rank',\n",
       "                                                   'opponent_rank']),\n",
       "                                                 ('cat',\n",
       "                                                  OneHotEncoder(sparse_output=False),\n",
       "                                                  ['surface', 'tourney_level',\n",
       "                                                   'player_hand',\n",
       "                                                   'opponent_hand'])])),\n",
       "                ('clf', LogisticRegression(max_iter=300))])"
      ]
     },
     "execution_count": 20,
     "metadata": {},
     "output_type": "execute_result"
    }
   ],
   "source": [
    "model.best_estimator_"
   ]
  },
  {
   "cell_type": "code",
   "execution_count": null,
   "metadata": {},
   "outputs": [
    {
     "data": {
      "text/plain": [
       "(0.9516005296124496, {'clf': LogisticRegression(max_iter=300)})"
      ]
     },
     "execution_count": 27,
     "metadata": {},
     "output_type": "execute_result"
    }
   ],
   "source": [
    "model.best_score_, model.best_params_"
   ]
  },
  {
   "cell_type": "code",
   "execution_count": null,
   "metadata": {},
   "outputs": [
    {
     "name": "stdout",
     "output_type": "stream",
     "text": [
      "{'clf': LogisticRegression(max_iter=300)} 0.9516005296124496\n",
      "{'clf': SGDClassifier(max_iter=300)} 0.9461788310234458\n",
      "{'clf': SVC(probability=True)} 0.9356632933154857\n",
      "{'clf': DecisionTreeClassifier()} 0.8232526464752944\n",
      "{'clf': KNeighborsClassifier()} 0.7840627278686028\n",
      "{'clf': RandomForestClassifier()} 0.8820381258918935\n"
     ]
    }
   ],
   "source": [
    "for mean_score, params in zip(model.cv_results_['mean_test_score'], model.cv_results_['params']):\n",
    "    print(params, mean_score)"
   ]
  }
 ],
 "metadata": {
  "kernelspec": {
   "display_name": "Python 3",
   "language": "python",
   "name": "python3"
  },
  "language_info": {
   "codemirror_mode": {
    "name": "ipython",
    "version": 3
   },
   "file_extension": ".py",
   "mimetype": "text/x-python",
   "name": "python",
   "nbconvert_exporter": "python",
   "pygments_lexer": "ipython3",
   "version": "3.11.5"
  }
 },
 "nbformat": 4,
 "nbformat_minor": 2
}
