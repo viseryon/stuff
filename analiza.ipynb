{
 "cells": [
  {
   "cell_type": "markdown",
   "metadata": {},
   "source": [
    "\\title{\\fontsize{24pt}{30pt} Uczenie maszynowe i sztuczna inteligencja w finansach \\break Prognoza cen samochodów}  \n",
    "\\vspace{50pt}  \n",
    "\\author{Alan Śliwiński \\\\ 89575 \\and name2 \\\\ album2 \\and imie \\\\ album3}  \n",
    "\\date{28 stycznia 2024}  \n",
    "\\maketitle\n",
    "\n",
    "\\vspace{75pt}  \n",
    "\\large{\\textbf tutaj wstawić opis projektu Lorem ipsum dolor sit amet stet vel. Amet et et sed dolor sit amet justo molestie nonumy invidunt kasd. Dolor clita eu justo liber magna autem consetetur sed delenit illum. Et in ea feugait ut ipsum dolor dolore at. Ea illum eos sadipscing sit. Esse dolores at lorem sea eirmod at doming sadipscing erat nonumy praesent. Et voluptua justo amet erat ipsum vero dolor. Magna et quis stet praesent sadipscing magna. Dolor ad magna.}  \n",
    "\\vspace{25pt}  \n",
    "\\renewcommand{\\contentsname}{Spis treści}\n",
    "\n",
    "\\tableofcontents\n",
    "\n",
    "\\pagebreak"
   ]
  },
  {
   "cell_type": "markdown",
   "metadata": {},
   "source": [
    "# Biblioteki i dane"
   ]
  },
  {
   "cell_type": "markdown",
   "metadata": {},
   "source": [
    "notatka"
   ]
  },
  {
   "cell_type": "code",
   "execution_count": 1,
   "metadata": {},
   "outputs": [],
   "source": [
    "import pandas as pd\n",
    "import geopandas as gpd\n",
    "from matplotlib import pyplot as plt"
   ]
  },
  {
   "cell_type": "markdown",
   "metadata": {},
   "source": [
    "notatka"
   ]
  },
  {
   "cell_type": "code",
   "execution_count": 2,
   "metadata": {},
   "outputs": [],
   "source": [
    "df = pd.read_csv(\"otomoto.csv\")\n",
    "df = df.drop(columns=[\"OPIS\", \"OSTATNIA_AKTUALIZACJA\"])"
   ]
  },
  {
   "cell_type": "markdown",
   "metadata": {},
   "source": [
    "notatka"
   ]
  },
  {
   "cell_type": "code",
   "execution_count": 3,
   "metadata": {},
   "outputs": [
    {
     "name": "stdout",
     "output_type": "stream",
     "text": [
      "<class 'pandas.core.frame.DataFrame'>\n",
      "RangeIndex: 151360 entries, 0 to 151359\n",
      "Data columns (total 9 columns):\n",
      " #   Column                 Non-Null Count   Dtype  \n",
      "---  ------                 --------------   -----  \n",
      " 0   TYTUŁ                  151360 non-null  object \n",
      " 1   ROK_PRODUKCJI          133434 non-null  float64\n",
      " 2   PRZEBIEG_KM            133428 non-null  float64\n",
      " 3   POJEMNOŚĆ_SILNIKA_CM3  151147 non-null  float64\n",
      " 4   PALIWO                 151360 non-null  object \n",
      " 5   MIASTO                 151360 non-null  object \n",
      " 6   WOJEWODZTWO            151360 non-null  object \n",
      " 7   CENA                   151360 non-null  int64  \n",
      " 8   WALUTA                 151360 non-null  object \n",
      "dtypes: float64(3), int64(1), object(5)\n",
      "memory usage: 10.4+ MB\n"
     ]
    }
   ],
   "source": [
    "df.info()"
   ]
  },
  {
   "cell_type": "markdown",
   "metadata": {},
   "source": [
    "notatka"
   ]
  },
  {
   "cell_type": "code",
   "execution_count": 4,
   "metadata": {},
   "outputs": [],
   "source": [
    "df = df[df.WALUTA != 'EUR']"
   ]
  },
  {
   "cell_type": "markdown",
   "metadata": {},
   "source": [
    "# Exploratory data analysis"
   ]
  },
  {
   "cell_type": "markdown",
   "metadata": {},
   "source": [
    "notatka"
   ]
  },
  {
   "cell_type": "markdown",
   "metadata": {},
   "source": [
    "## Dane numeryczne"
   ]
  },
  {
   "cell_type": "markdown",
   "metadata": {},
   "source": [
    "notatka"
   ]
  },
  {
   "cell_type": "code",
   "execution_count": 5,
   "metadata": {},
   "outputs": [
    {
     "data": {
      "text/html": [
       "<div>\n",
       "<style scoped>\n",
       "    .dataframe tbody tr th:only-of-type {\n",
       "        vertical-align: middle;\n",
       "    }\n",
       "\n",
       "    .dataframe tbody tr th {\n",
       "        vertical-align: top;\n",
       "    }\n",
       "\n",
       "    .dataframe thead th {\n",
       "        text-align: right;\n",
       "    }\n",
       "</style>\n",
       "<table border=\"1\" class=\"dataframe\">\n",
       "  <thead>\n",
       "    <tr style=\"text-align: right;\">\n",
       "      <th></th>\n",
       "      <th>ROK_PRODUKCJI</th>\n",
       "      <th>PRZEBIEG_KM</th>\n",
       "      <th>POJEMNOŚĆ_SILNIKA_CM3</th>\n",
       "      <th>CENA</th>\n",
       "    </tr>\n",
       "  </thead>\n",
       "  <tbody>\n",
       "    <tr>\n",
       "      <th>count</th>\n",
       "      <td>133414</td>\n",
       "      <td>133408</td>\n",
       "      <td>151128</td>\n",
       "      <td>151340</td>\n",
       "    </tr>\n",
       "    <tr>\n",
       "      <th>mean</th>\n",
       "      <td>2012</td>\n",
       "      <td>163790</td>\n",
       "      <td>1937</td>\n",
       "      <td>58185</td>\n",
       "    </tr>\n",
       "    <tr>\n",
       "      <th>std</th>\n",
       "      <td>6</td>\n",
       "      <td>92676</td>\n",
       "      <td>836</td>\n",
       "      <td>65134</td>\n",
       "    </tr>\n",
       "    <tr>\n",
       "      <th>min</th>\n",
       "      <td>1937</td>\n",
       "      <td>1</td>\n",
       "      <td>480</td>\n",
       "      <td>1250</td>\n",
       "    </tr>\n",
       "    <tr>\n",
       "      <th>25%</th>\n",
       "      <td>2009</td>\n",
       "      <td>94296</td>\n",
       "      <td>1469</td>\n",
       "      <td>17900</td>\n",
       "    </tr>\n",
       "    <tr>\n",
       "      <th>50%</th>\n",
       "      <td>2012</td>\n",
       "      <td>179010</td>\n",
       "      <td>1798</td>\n",
       "      <td>35900</td>\n",
       "    </tr>\n",
       "    <tr>\n",
       "      <th>75%</th>\n",
       "      <td>2017</td>\n",
       "      <td>224000</td>\n",
       "      <td>1997</td>\n",
       "      <td>74999</td>\n",
       "    </tr>\n",
       "    <tr>\n",
       "      <th>max</th>\n",
       "      <td>2023</td>\n",
       "      <td>1943000</td>\n",
       "      <td>7990</td>\n",
       "      <td>1966770</td>\n",
       "    </tr>\n",
       "  </tbody>\n",
       "</table>\n",
       "</div>"
      ],
      "text/plain": [
       "       ROK_PRODUKCJI  PRZEBIEG_KM  POJEMNOŚĆ_SILNIKA_CM3     CENA\n",
       "count         133414       133408                 151128   151340\n",
       "mean            2012       163790                   1937    58185\n",
       "std                6        92676                    836    65134\n",
       "min             1937            1                    480     1250\n",
       "25%             2009        94296                   1469    17900\n",
       "50%             2012       179010                   1798    35900\n",
       "75%             2017       224000                   1997    74999\n",
       "max             2023      1943000                   7990  1966770"
      ]
     },
     "execution_count": 5,
     "metadata": {},
     "output_type": "execute_result"
    }
   ],
   "source": [
    "df.describe().astype(int)"
   ]
  },
  {
   "cell_type": "markdown",
   "metadata": {},
   "source": [
    "notatka"
   ]
  },
  {
   "cell_type": "code",
   "execution_count": 6,
   "metadata": {},
   "outputs": [
    {
     "data": {
      "image/png": "[encoded data removed]",
      "text/plain": [
       "<Figure size 900x500 with 4 Axes>"
      ]
     },
     "metadata": {},
     "output_type": "display_data"
    }
   ],
   "source": [
    "fig, ax = plt.subplots(2, 2, figsize=(9, 5))\n",
    "for i, stat in enumerate((\"ROK_PRODUKCJI\", \"PRZEBIEG_KM\", \"POJEMNOŚĆ_SILNIKA_CM3\", \"CENA\")):\n",
    "    div, mod = divmod(i, 2)\n",
    "    ax[div, mod].hist(df[stat], bins=50)\n",
    "    ax[div, mod].set_title(stat)\n",
    "plt.tight_layout()\n",
    "plt.show()"
   ]
  },
  {
   "cell_type": "markdown",
   "metadata": {},
   "source": [
    "notatka"
   ]
  },
  {
   "cell_type": "code",
   "execution_count": 7,
   "metadata": {},
   "outputs": [
    {
     "data": {
      "text/html": [
       "<div>\n",
       "<style scoped>\n",
       "    .dataframe tbody tr th:only-of-type {\n",
       "        vertical-align: middle;\n",
       "    }\n",
       "\n",
       "    .dataframe tbody tr th {\n",
       "        vertical-align: top;\n",
       "    }\n",
       "\n",
       "    .dataframe thead th {\n",
       "        text-align: right;\n",
       "    }\n",
       "</style>\n",
       "<table border=\"1\" class=\"dataframe\">\n",
       "  <thead>\n",
       "    <tr style=\"text-align: right;\">\n",
       "      <th></th>\n",
       "      <th>ROK_PRODUKCJI</th>\n",
       "      <th>PRZEBIEG_KM</th>\n",
       "      <th>POJEMNOŚĆ_SILNIKA_CM3</th>\n",
       "      <th>CENA</th>\n",
       "    </tr>\n",
       "  </thead>\n",
       "  <tbody>\n",
       "    <tr>\n",
       "      <th>ROK_PRODUKCJI</th>\n",
       "      <td>1.000000</td>\n",
       "      <td>-0.640512</td>\n",
       "      <td>-0.017783</td>\n",
       "      <td>0.609888</td>\n",
       "    </tr>\n",
       "    <tr>\n",
       "      <th>PRZEBIEG_KM</th>\n",
       "      <td>-0.640512</td>\n",
       "      <td>1.000000</td>\n",
       "      <td>0.087809</td>\n",
       "      <td>-0.641578</td>\n",
       "    </tr>\n",
       "    <tr>\n",
       "      <th>POJEMNOŚĆ_SILNIKA_CM3</th>\n",
       "      <td>-0.017783</td>\n",
       "      <td>0.087809</td>\n",
       "      <td>1.000000</td>\n",
       "      <td>0.220893</td>\n",
       "    </tr>\n",
       "    <tr>\n",
       "      <th>CENA</th>\n",
       "      <td>0.609888</td>\n",
       "      <td>-0.641578</td>\n",
       "      <td>0.220893</td>\n",
       "      <td>1.000000</td>\n",
       "    </tr>\n",
       "  </tbody>\n",
       "</table>\n",
       "</div>"
      ],
      "text/plain": [
       "                       ROK_PRODUKCJI  PRZEBIEG_KM  POJEMNOŚĆ_SILNIKA_CM3  \\\n",
       "ROK_PRODUKCJI               1.000000    -0.640512              -0.017783   \n",
       "PRZEBIEG_KM                -0.640512     1.000000               0.087809   \n",
       "POJEMNOŚĆ_SILNIKA_CM3      -0.017783     0.087809               1.000000   \n",
       "CENA                        0.609888    -0.641578               0.220893   \n",
       "\n",
       "                           CENA  \n",
       "ROK_PRODUKCJI          0.609888  \n",
       "PRZEBIEG_KM           -0.641578  \n",
       "POJEMNOŚĆ_SILNIKA_CM3  0.220893  \n",
       "CENA                   1.000000  "
      ]
     },
     "execution_count": 7,
     "metadata": {},
     "output_type": "execute_result"
    }
   ],
   "source": [
    "df.corr(numeric_only=True)"
   ]
  },
  {
   "cell_type": "markdown",
   "metadata": {},
   "source": [
    "notatka"
   ]
  },
  {
   "cell_type": "markdown",
   "metadata": {},
   "source": [
    "## Dane kategoryczne"
   ]
  },
  {
   "cell_type": "markdown",
   "metadata": {},
   "source": [
    "notatka"
   ]
  },
  {
   "cell_type": "code",
   "execution_count": 8,
   "metadata": {},
   "outputs": [
    {
     "data": {
      "image/png": "[encoded data removed]",
      "text/plain": [
       "<Figure size 900x400 with 1 Axes>"
      ]
     },
     "metadata": {},
     "output_type": "display_data"
    }
   ],
   "source": [
    "naped = df.groupby(\"PALIWO\")[[\"CENA\"]].count()\n",
    "plt.figure(figsize=(9, 4))\n",
    "plt.bar(naped.index, naped.CENA)\n",
    "plt.legend([\"Liczba\"])\n",
    "plt.title(\"Liczba samochodów wg napędu\")\n",
    "plt.show()"
   ]
  },
  {
   "cell_type": "markdown",
   "metadata": {},
   "source": [
    "notatka"
   ]
  },
  {
   "cell_type": "code",
   "execution_count": 9,
   "metadata": {},
   "outputs": [
    {
     "data": {
      "text/html": [
       "<div>\n",
       "<style scoped>\n",
       "    .dataframe tbody tr th:only-of-type {\n",
       "        vertical-align: middle;\n",
       "    }\n",
       "\n",
       "    .dataframe tbody tr th {\n",
       "        vertical-align: top;\n",
       "    }\n",
       "\n",
       "    .dataframe thead th {\n",
       "        text-align: right;\n",
       "    }\n",
       "</style>\n",
       "<table border=\"1\" class=\"dataframe\">\n",
       "  <thead>\n",
       "    <tr style=\"text-align: right;\">\n",
       "      <th></th>\n",
       "      <th>count</th>\n",
       "      <th>mean</th>\n",
       "      <th>std</th>\n",
       "    </tr>\n",
       "    <tr>\n",
       "      <th>WOJEWODZTWO</th>\n",
       "      <th></th>\n",
       "      <th></th>\n",
       "      <th></th>\n",
       "    </tr>\n",
       "  </thead>\n",
       "  <tbody>\n",
       "    <tr>\n",
       "      <th>Mazowieckie</th>\n",
       "      <td>26650.0</td>\n",
       "      <td>83636.14</td>\n",
       "      <td>68158.56</td>\n",
       "    </tr>\n",
       "    <tr>\n",
       "      <th>Wielkopolskie</th>\n",
       "      <td>25600.0</td>\n",
       "      <td>44594.14</td>\n",
       "      <td>58038.32</td>\n",
       "    </tr>\n",
       "    <tr>\n",
       "      <th>Dolnośląskie</th>\n",
       "      <td>19225.0</td>\n",
       "      <td>43793.56</td>\n",
       "      <td>41021.80</td>\n",
       "    </tr>\n",
       "    <tr>\n",
       "      <th>Małopolskie</th>\n",
       "      <td>16082.0</td>\n",
       "      <td>42221.08</td>\n",
       "      <td>48355.71</td>\n",
       "    </tr>\n",
       "    <tr>\n",
       "      <th>Świętokrzyskie</th>\n",
       "      <td>11331.0</td>\n",
       "      <td>71837.12</td>\n",
       "      <td>30127.82</td>\n",
       "    </tr>\n",
       "    <tr>\n",
       "      <th>Śląskie</th>\n",
       "      <td>11193.0</td>\n",
       "      <td>79787.73</td>\n",
       "      <td>108573.26</td>\n",
       "    </tr>\n",
       "    <tr>\n",
       "      <th>Lubuskie</th>\n",
       "      <td>7625.0</td>\n",
       "      <td>42991.48</td>\n",
       "      <td>24576.86</td>\n",
       "    </tr>\n",
       "    <tr>\n",
       "      <th>Lubelskie</th>\n",
       "      <td>6852.0</td>\n",
       "      <td>46321.08</td>\n",
       "      <td>36391.10</td>\n",
       "    </tr>\n",
       "    <tr>\n",
       "      <th>Zachodniopomorskie</th>\n",
       "      <td>5937.0</td>\n",
       "      <td>40753.79</td>\n",
       "      <td>36539.75</td>\n",
       "    </tr>\n",
       "    <tr>\n",
       "      <th>Pomorskie</th>\n",
       "      <td>5711.0</td>\n",
       "      <td>36369.68</td>\n",
       "      <td>64280.16</td>\n",
       "    </tr>\n",
       "    <tr>\n",
       "      <th>Kujawsko-pomorskie</th>\n",
       "      <td>4163.0</td>\n",
       "      <td>106685.15</td>\n",
       "      <td>126183.36</td>\n",
       "    </tr>\n",
       "    <tr>\n",
       "      <th>Opolskie</th>\n",
       "      <td>3721.0</td>\n",
       "      <td>18415.88</td>\n",
       "      <td>28880.51</td>\n",
       "    </tr>\n",
       "    <tr>\n",
       "      <th>Podkarpackie</th>\n",
       "      <td>3635.0</td>\n",
       "      <td>41783.20</td>\n",
       "      <td>31857.93</td>\n",
       "    </tr>\n",
       "    <tr>\n",
       "      <th>Łódzkie</th>\n",
       "      <td>2468.0</td>\n",
       "      <td>127234.22</td>\n",
       "      <td>81833.37</td>\n",
       "    </tr>\n",
       "    <tr>\n",
       "      <th>Podlaskie</th>\n",
       "      <td>825.0</td>\n",
       "      <td>136824.31</td>\n",
       "      <td>80407.67</td>\n",
       "    </tr>\n",
       "    <tr>\n",
       "      <th>Warmińsko-mazurskie</th>\n",
       "      <td>320.0</td>\n",
       "      <td>65661.71</td>\n",
       "      <td>69956.99</td>\n",
       "    </tr>\n",
       "    <tr>\n",
       "      <th>Belgia</th>\n",
       "      <td>2.0</td>\n",
       "      <td>30749.00</td>\n",
       "      <td>1060.66</td>\n",
       "    </tr>\n",
       "  </tbody>\n",
       "</table>\n",
       "</div>"
      ],
      "text/plain": [
       "                       count       mean        std\n",
       "WOJEWODZTWO                                       \n",
       "Mazowieckie          26650.0   83636.14   68158.56\n",
       "Wielkopolskie        25600.0   44594.14   58038.32\n",
       "Dolnośląskie         19225.0   43793.56   41021.80\n",
       "Małopolskie          16082.0   42221.08   48355.71\n",
       "Świętokrzyskie       11331.0   71837.12   30127.82\n",
       "Śląskie              11193.0   79787.73  108573.26\n",
       "Lubuskie              7625.0   42991.48   24576.86\n",
       "Lubelskie             6852.0   46321.08   36391.10\n",
       "Zachodniopomorskie    5937.0   40753.79   36539.75\n",
       "Pomorskie             5711.0   36369.68   64280.16\n",
       "Kujawsko-pomorskie    4163.0  106685.15  126183.36\n",
       "Opolskie              3721.0   18415.88   28880.51\n",
       "Podkarpackie          3635.0   41783.20   31857.93\n",
       "Łódzkie               2468.0  127234.22   81833.37\n",
       "Podlaskie              825.0  136824.31   80407.67\n",
       "Warmińsko-mazurskie    320.0   65661.71   69956.99\n",
       "Belgia                   2.0   30749.00    1060.66"
      ]
     },
     "execution_count": 9,
     "metadata": {},
     "output_type": "execute_result"
    }
   ],
   "source": [
    "woj_data = (\n",
    "    df.groupby(\"WOJEWODZTWO\")\n",
    "    .CENA.describe()\n",
    "    .round(2)\n",
    "    .sort_values(\"count\", ascending=False)\n",
    "\n",
    ")\n",
    "woj_data[[\"count\", \"mean\", \"std\"]]"
   ]
  },
  {
   "cell_type": "markdown",
   "metadata": {},
   "source": [
    "notatka"
   ]
  },
  {
   "cell_type": "code",
   "execution_count": 10,
   "metadata": {},
   "outputs": [],
   "source": [
    "woj_shp = gpd.read_file(\"wojewodztwa.zip\")[[\"JPT_NAZWA_\", \"geometry\"]]\n",
    "woj_shp.JPT_NAZWA_ = woj_shp.JPT_NAZWA_.str.capitalize()"
   ]
  },
  {
   "cell_type": "markdown",
   "metadata": {},
   "source": [
    "notatka"
   ]
  },
  {
   "cell_type": "code",
   "execution_count": 11,
   "metadata": {},
   "outputs": [],
   "source": [
    "woj_plot = woj_shp.merge(\n",
    "        woj_data, how=\"outer\", left_on=\"JPT_NAZWA_\", right_on=\"WOJEWODZTWO\"\n",
    "    ).dropna().set_index(\"JPT_NAZWA_\")"
   ]
  },
  {
   "cell_type": "code",
   "execution_count": 12,
   "metadata": {},
   "outputs": [
    {
     "data": {
      "image/png": "[encoded data removed]",
      "text/plain": [
       "<Figure size 900x500 with 4 Axes>"
      ]
     },
     "metadata": {},
     "output_type": "display_data"
    }
   ],
   "source": [
    "fig, ax = plt.subplots(1, 2, figsize=(9, 5))\n",
    "ax1 = woj_plot.plot(\"count\", ax=ax[0], legend=True, cmap=\"Blues\", legend_kwds={\"orientation\": \"horizontal\"})\n",
    "ax1.set_axis_off()\n",
    "ax1.set_title(\"Liczba ofert\")\n",
    "ax2 = woj_plot.plot(\"mean\", ax=ax[1], legend=True, cmap=\"Blues\", legend_kwds={\"orientation\": \"horizontal\"})\n",
    "ax2.set_axis_off()\n",
    "ax2.set_title(\"Średnia cena oferty\")\n",
    "plt.tight_layout()\n",
    "plt.show()"
   ]
  },
  {
   "cell_type": "markdown",
   "metadata": {},
   "source": [
    "notatka"
   ]
  },
  {
   "cell_type": "code",
   "execution_count": 13,
   "metadata": {},
   "outputs": [
    {
     "data": {
      "text/plain": [
       "'Skoda Superb 2.0 Comfort'"
      ]
     },
     "execution_count": 13,
     "metadata": {},
     "output_type": "execute_result"
    }
   ],
   "source": [
    "df.loc[0, 'TYTUŁ']"
   ]
  },
  {
   "cell_type": "markdown",
   "metadata": {},
   "source": [
    "notatka"
   ]
  },
  {
   "cell_type": "code",
   "execution_count": 14,
   "metadata": {},
   "outputs": [],
   "source": [
    "df.insert(1, 'MARKA', df.TYTUŁ.str.split(' ').str[0])"
   ]
  },
  {
   "cell_type": "code",
   "execution_count": 15,
   "metadata": {},
   "outputs": [
    {
     "data": {
      "text/html": [
       "<div>\n",
       "<style scoped>\n",
       "    .dataframe tbody tr th:only-of-type {\n",
       "        vertical-align: middle;\n",
       "    }\n",
       "\n",
       "    .dataframe tbody tr th {\n",
       "        vertical-align: top;\n",
       "    }\n",
       "\n",
       "    .dataframe thead th {\n",
       "        text-align: right;\n",
       "    }\n",
       "</style>\n",
       "<table border=\"1\" class=\"dataframe\">\n",
       "  <thead>\n",
       "    <tr style=\"text-align: right;\">\n",
       "      <th></th>\n",
       "      <th>count</th>\n",
       "      <th>mean</th>\n",
       "      <th>std</th>\n",
       "    </tr>\n",
       "    <tr>\n",
       "      <th>MARKA</th>\n",
       "      <th></th>\n",
       "      <th></th>\n",
       "      <th></th>\n",
       "    </tr>\n",
       "  </thead>\n",
       "  <tbody>\n",
       "    <tr>\n",
       "      <th>Ford</th>\n",
       "      <td>16232.0</td>\n",
       "      <td>38581.29</td>\n",
       "      <td>25463.85</td>\n",
       "    </tr>\n",
       "    <tr>\n",
       "      <th>Volkswagen</th>\n",
       "      <td>14343.0</td>\n",
       "      <td>33141.09</td>\n",
       "      <td>33817.38</td>\n",
       "    </tr>\n",
       "    <tr>\n",
       "      <th>Opel</th>\n",
       "      <td>11316.0</td>\n",
       "      <td>19765.17</td>\n",
       "      <td>15144.27</td>\n",
       "    </tr>\n",
       "    <tr>\n",
       "      <th>Toyota</th>\n",
       "      <td>9312.0</td>\n",
       "      <td>28684.19</td>\n",
       "      <td>25234.61</td>\n",
       "    </tr>\n",
       "    <tr>\n",
       "      <th>BMW</th>\n",
       "      <td>9179.0</td>\n",
       "      <td>99011.68</td>\n",
       "      <td>109428.93</td>\n",
       "    </tr>\n",
       "    <tr>\n",
       "      <th>Jeep</th>\n",
       "      <td>8589.0</td>\n",
       "      <td>150863.91</td>\n",
       "      <td>23737.61</td>\n",
       "    </tr>\n",
       "    <tr>\n",
       "      <th>Audi</th>\n",
       "      <td>8234.0</td>\n",
       "      <td>115730.76</td>\n",
       "      <td>104048.98</td>\n",
       "    </tr>\n",
       "    <tr>\n",
       "      <th>Skoda</th>\n",
       "      <td>6935.0</td>\n",
       "      <td>37460.26</td>\n",
       "      <td>35298.70</td>\n",
       "    </tr>\n",
       "    <tr>\n",
       "      <th>Mercedes-Benz</th>\n",
       "      <td>6459.0</td>\n",
       "      <td>104704.07</td>\n",
       "      <td>98882.41</td>\n",
       "    </tr>\n",
       "    <tr>\n",
       "      <th>Renault</th>\n",
       "      <td>6456.0</td>\n",
       "      <td>44929.53</td>\n",
       "      <td>27769.33</td>\n",
       "    </tr>\n",
       "  </tbody>\n",
       "</table>\n",
       "</div>"
      ],
      "text/plain": [
       "                 count       mean        std\n",
       "MARKA                                       \n",
       "Ford           16232.0   38581.29   25463.85\n",
       "Volkswagen     14343.0   33141.09   33817.38\n",
       "Opel           11316.0   19765.17   15144.27\n",
       "Toyota          9312.0   28684.19   25234.61\n",
       "BMW             9179.0   99011.68  109428.93\n",
       "Jeep            8589.0  150863.91   23737.61\n",
       "Audi            8234.0  115730.76  104048.98\n",
       "Skoda           6935.0   37460.26   35298.70\n",
       "Mercedes-Benz   6459.0  104704.07   98882.41\n",
       "Renault         6456.0   44929.53   27769.33"
      ]
     },
     "execution_count": 15,
     "metadata": {},
     "output_type": "execute_result"
    }
   ],
   "source": [
    "marki = df.groupby(\"MARKA\").CENA.describe().round(2).sort_values(\"count\", ascending=False)\n",
    "marki[['count', 'mean', 'std']].head(10)"
   ]
  },
  {
   "cell_type": "markdown",
   "metadata": {},
   "source": [
    "notatka"
   ]
  },
  {
   "cell_type": "code",
   "execution_count": 16,
   "metadata": {},
   "outputs": [
    {
     "data": {
      "image/png": "[encoded data removed]",
      "text/plain": [
       "<Figure size 600x400 with 1 Axes>"
      ]
     },
     "metadata": {},
     "output_type": "display_data"
    }
   ],
   "source": [
    "labels = [label if i < 10 else \"\" for i, label in enumerate(marki.index)]\n",
    "plt.figure(figsize=(6,4))\n",
    "plt.pie(marki['count'], labels=labels)\n",
    "plt.title('Udział marek w liczbie ofert')\n",
    "plt.tight_layout()\n",
    "plt.show()"
   ]
  },
  {
   "cell_type": "markdown",
   "metadata": {},
   "source": [
    "notatka"
   ]
  },
  {
   "cell_type": "code",
   "execution_count": 17,
   "metadata": {},
   "outputs": [
    {
     "data": {
      "image/png": "[encoded data removed]",
      "text/plain": [
       "<Figure size 900x500 with 1 Axes>"
      ]
     },
     "metadata": {},
     "output_type": "display_data"
    }
   ],
   "source": [
    "marki = marki.sort_values(\"mean\").tail(20)\n",
    "plt.figure(figsize=(9, 5))\n",
    "plt.barh(marki.index, marki[\"mean\"])\n",
    "plt.title(\"Średnia cena samochodu wg marki\")\n",
    "plt.tight_layout()\n",
    "plt.show()"
   ]
  },
  {
   "cell_type": "markdown",
   "metadata": {},
   "source": [
    "notatka"
   ]
  },
  {
   "cell_type": "markdown",
   "metadata": {},
   "source": [
    "# Model"
   ]
  },
  {
   "cell_type": "markdown",
   "metadata": {},
   "source": [
    "notatka"
   ]
  },
  {
   "cell_type": "markdown",
   "metadata": {},
   "source": [
    "## Budowa transformatora i predyktora"
   ]
  },
  {
   "cell_type": "markdown",
   "metadata": {},
   "source": [
    "notatka"
   ]
  },
  {
   "cell_type": "code",
   "execution_count": 18,
   "metadata": {},
   "outputs": [],
   "source": [
    "from sklearn.preprocessing import StandardScaler, OneHotEncoder\n",
    "from sklearn.compose import ColumnTransformer\n",
    "from sklearn.impute import SimpleImputer\n",
    "from sklearn.pipeline import Pipeline\n",
    "from sklearn.linear_model import LinearRegression\n",
    "from sklearn.metrics import r2_score, mean_absolute_error\n",
    "from sklearn import set_config\n",
    "set_config(display=\"text\")"
   ]
  },
  {
   "cell_type": "markdown",
   "metadata": {},
   "source": [
    "notatka"
   ]
  },
  {
   "cell_type": "code",
   "execution_count": 19,
   "metadata": {},
   "outputs": [],
   "source": [
    "num_cols = [\"ROK_PRODUKCJI\", \"PRZEBIEG_KM\", \"POJEMNOŚĆ_SILNIKA_CM3\"]\n",
    "cat_cols = [\"MARKA\", \"PALIWO\",\"WOJEWODZTWO\"]"
   ]
  },
  {
   "cell_type": "markdown",
   "metadata": {},
   "source": [
    "pipeline"
   ]
  },
  {
   "cell_type": "code",
   "execution_count": 20,
   "metadata": {},
   "outputs": [],
   "source": [
    "preprocessor = ColumnTransformer([\n",
    "    (\"numerical\", Pipeline([\n",
    "            (\"imputer\", SimpleImputer(strategy=\"median\")),\n",
    "            (\"scaler\", StandardScaler())]\n",
    "        ), num_cols),\n",
    "    (\"categorical\", OneHotEncoder(handle_unknown=\"ignore\"), cat_cols),\n",
    "])\n",
    "default_model = Pipeline([(\"preprocessor\", preprocessor), (\"regressor\", LinearRegression())])"
   ]
  },
  {
   "cell_type": "markdown",
   "metadata": {},
   "source": [
    "## Przygotowanie i trening"
   ]
  },
  {
   "cell_type": "markdown",
   "metadata": {},
   "source": [
    "notatka"
   ]
  },
  {
   "cell_type": "code",
   "execution_count": 21,
   "metadata": {},
   "outputs": [],
   "source": [
    "from sklearn.model_selection import train_test_split"
   ]
  },
  {
   "cell_type": "code",
   "execution_count": 22,
   "metadata": {},
   "outputs": [],
   "source": [
    "df = df.drop(columns=['TYTUŁ', 'MIASTO', 'WALUTA'])\n",
    "y = df.CENA\n",
    "x = df.drop(columns=['CENA'])"
   ]
  },
  {
   "cell_type": "markdown",
   "metadata": {},
   "source": [
    "dla zobrazowania małe sety danych"
   ]
  },
  {
   "cell_type": "code",
   "execution_count": 23,
   "metadata": {},
   "outputs": [],
   "source": [
    "x_train, x_test, y_train, y_test = train_test_split(x, y, train_size=0.05, test_size=0.01, random_state=42)"
   ]
  },
  {
   "cell_type": "code",
   "execution_count": 24,
   "metadata": {},
   "outputs": [],
   "source": [
    "default_model.fit(X=x_train, y=y_train)\n",
    "pass"
   ]
  },
  {
   "cell_type": "markdown",
   "metadata": {},
   "source": [
    "notatka"
   ]
  },
  {
   "cell_type": "code",
   "execution_count": 25,
   "metadata": {},
   "outputs": [],
   "source": [
    "from sklearn.metrics import mean_absolute_error, r2_score"
   ]
  },
  {
   "cell_type": "markdown",
   "metadata": {},
   "source": [
    "notatka"
   ]
  },
  {
   "cell_type": "code",
   "execution_count": 26,
   "metadata": {},
   "outputs": [],
   "source": [
    "y_pred = default_model.predict(X=x_train)"
   ]
  },
  {
   "cell_type": "code",
   "execution_count": 27,
   "metadata": {},
   "outputs": [
    {
     "data": {
      "text/plain": [
       "(19256.167848500572, 0.744092478959515)"
      ]
     },
     "execution_count": 27,
     "metadata": {},
     "output_type": "execute_result"
    }
   ],
   "source": [
    "mae = mean_absolute_error(y_train, y_pred)\n",
    "r2 = r2_score(y_train, y_pred)\n",
    "mae, r2"
   ]
  },
  {
   "cell_type": "markdown",
   "metadata": {},
   "source": [
    "notatka"
   ]
  },
  {
   "cell_type": "markdown",
   "metadata": {},
   "source": [
    "## Przeszukiwanie siatki"
   ]
  },
  {
   "cell_type": "code",
   "execution_count": 28,
   "metadata": {},
   "outputs": [],
   "source": [
    "from sklearn.linear_model import LogisticRegression, LinearRegression\n",
    "from sklearn.svm import SVR\n",
    "from sklearn.neighbors import KNeighborsRegressor\n",
    "from sklearn.tree import DecisionTreeRegressor\n",
    "from sklearn.ensemble import RandomForestRegressor"
   ]
  },
  {
   "cell_type": "markdown",
   "metadata": {},
   "source": [
    "notatka"
   ]
  },
  {
   "cell_type": "code",
   "execution_count": 29,
   "metadata": {},
   "outputs": [],
   "source": [
    "from sklearn.model_selection import GridSearchCV"
   ]
  },
  {
   "cell_type": "markdown",
   "metadata": {},
   "source": [
    "notatka"
   ]
  },
  {
   "cell_type": "code",
   "execution_count": 30,
   "metadata": {},
   "outputs": [],
   "source": [
    "param_grid = [\n",
    "    {\"regressor\": [LinearRegression()]},\n",
    "    {\"regressor\": [LogisticRegression(random_state=42)]},\n",
    "    {\"regressor\": [KNeighborsRegressor()]},\n",
    "    {\"regressor\": [SVR()]},\n",
    "    {\"regressor\": [DecisionTreeRegressor(random_state=42)]},\n",
    "    {\"regressor\": [RandomForestRegressor(random_state=42)]},\n",
    "]\n"
   ]
  },
  {
   "cell_type": "code",
   "execution_count": 31,
   "metadata": {},
   "outputs": [],
   "source": [
    "gscv_model = GridSearchCV(estimator=default_model, param_grid=param_grid, n_jobs=-1)"
   ]
  },
  {
   "cell_type": "code",
   "execution_count": 32,
   "metadata": {},
   "outputs": [],
   "source": [
    "gscv_model.fit(X=x_train, y=y_train)\n",
    "pass"
   ]
  },
  {
   "cell_type": "code",
   "execution_count": 33,
   "metadata": {},
   "outputs": [
    {
     "data": {
      "text/html": [
       "<div>\n",
       "<style scoped>\n",
       "    .dataframe tbody tr th:only-of-type {\n",
       "        vertical-align: middle;\n",
       "    }\n",
       "\n",
       "    .dataframe tbody tr th {\n",
       "        vertical-align: top;\n",
       "    }\n",
       "\n",
       "    .dataframe thead th {\n",
       "        text-align: right;\n",
       "    }\n",
       "</style>\n",
       "<table border=\"1\" class=\"dataframe\">\n",
       "  <thead>\n",
       "    <tr style=\"text-align: right;\">\n",
       "      <th></th>\n",
       "      <th>param_regressor</th>\n",
       "      <th>mean_test_score</th>\n",
       "    </tr>\n",
       "    <tr>\n",
       "      <th>rank_test_score</th>\n",
       "      <th></th>\n",
       "      <th></th>\n",
       "    </tr>\n",
       "  </thead>\n",
       "  <tbody>\n",
       "    <tr>\n",
       "      <th>1</th>\n",
       "      <td>RandomForestRegressor(random_state=42)</td>\n",
       "      <td>0.938634</td>\n",
       "    </tr>\n",
       "    <tr>\n",
       "      <th>2</th>\n",
       "      <td>DecisionTreeRegressor(random_state=42)</td>\n",
       "      <td>0.909744</td>\n",
       "    </tr>\n",
       "    <tr>\n",
       "      <th>3</th>\n",
       "      <td>KNeighborsRegressor()</td>\n",
       "      <td>0.905837</td>\n",
       "    </tr>\n",
       "    <tr>\n",
       "      <th>4</th>\n",
       "      <td>LogisticRegression(random_state=42)</td>\n",
       "      <td>0.873001</td>\n",
       "    </tr>\n",
       "    <tr>\n",
       "      <th>5</th>\n",
       "      <td>LinearRegression()</td>\n",
       "      <td>0.731528</td>\n",
       "    </tr>\n",
       "    <tr>\n",
       "      <th>6</th>\n",
       "      <td>SVR()</td>\n",
       "      <td>-0.121414</td>\n",
       "    </tr>\n",
       "  </tbody>\n",
       "</table>\n",
       "</div>"
      ],
      "text/plain": [
       "                                        param_regressor  mean_test_score\n",
       "rank_test_score                                                         \n",
       "1                RandomForestRegressor(random_state=42)         0.938634\n",
       "2                DecisionTreeRegressor(random_state=42)         0.909744\n",
       "3                                 KNeighborsRegressor()         0.905837\n",
       "4                   LogisticRegression(random_state=42)         0.873001\n",
       "5                                    LinearRegression()         0.731528\n",
       "6                                                 SVR()        -0.121414"
      ]
     },
     "execution_count": 33,
     "metadata": {},
     "output_type": "execute_result"
    }
   ],
   "source": [
    "pd.DataFrame(gscv_model.cv_results_).set_index(\"rank_test_score\").sort_index()[\n",
    "    [\"param_regressor\", \"mean_test_score\"]\n",
    "]"
   ]
  },
  {
   "cell_type": "markdown",
   "metadata": {},
   "source": [
    "znaleziono lepszy randomforestregressor"
   ]
  },
  {
   "cell_type": "code",
   "execution_count": 34,
   "metadata": {},
   "outputs": [],
   "source": [
    "y_pred = gscv_model.predict(x_train)"
   ]
  },
  {
   "cell_type": "code",
   "execution_count": 35,
   "metadata": {},
   "outputs": [
    {
     "data": {
      "text/plain": [
       "(976.0301943302412, 0.9912686902554559)"
      ]
     },
     "execution_count": 35,
     "metadata": {},
     "output_type": "execute_result"
    }
   ],
   "source": [
    "mae = mean_absolute_error(y_train, y_pred)\n",
    "r2 = r2_score(y_train, y_pred)\n",
    "mae, r2"
   ]
  },
  {
   "cell_type": "markdown",
   "metadata": {},
   "source": [
    "notatka"
   ]
  },
  {
   "cell_type": "markdown",
   "metadata": {},
   "source": [
    "## Klasyfikator głosujący"
   ]
  },
  {
   "cell_type": "markdown",
   "metadata": {},
   "source": [
    "notatka"
   ]
  },
  {
   "cell_type": "code",
   "execution_count": 36,
   "metadata": {},
   "outputs": [],
   "source": [
    "from sklearn.ensemble import VotingRegressor"
   ]
  },
  {
   "cell_type": "markdown",
   "metadata": {},
   "source": [
    "notatka"
   ]
  },
  {
   "cell_type": "code",
   "execution_count": 37,
   "metadata": {},
   "outputs": [],
   "source": [
    "regr = VotingRegressor(\n",
    "    estimators=[\n",
    "        (\"forest\", RandomForestRegressor(random_state=42)),\n",
    "        (\"knn\", KNeighborsRegressor()),\n",
    "        (\"tree\", DecisionTreeRegressor(random_state=42)),\n",
    "    ],\n",
    ")\n",
    "voting_model = Pipeline([(\"preprocessor\", preprocessor), (\"regressor\", regr)])"
   ]
  },
  {
   "cell_type": "markdown",
   "metadata": {},
   "source": [
    "notatka"
   ]
  },
  {
   "cell_type": "code",
   "execution_count": 38,
   "metadata": {},
   "outputs": [],
   "source": [
    "voting_model.fit(x_train, y_train)\n",
    "pass"
   ]
  },
  {
   "cell_type": "code",
   "execution_count": 39,
   "metadata": {},
   "outputs": [],
   "source": [
    "y_pred = voting_model.predict(x_train)"
   ]
  },
  {
   "cell_type": "code",
   "execution_count": 40,
   "metadata": {},
   "outputs": [
    {
     "data": {
      "text/plain": [
       "(1196.9951266742087, 0.9878689266331786)"
      ]
     },
     "execution_count": 40,
     "metadata": {},
     "output_type": "execute_result"
    }
   ],
   "source": [
    "mae = mean_absolute_error(y_train, y_pred)\n",
    "r2 = r2_score(y_train, y_pred)\n",
    "mae, r2"
   ]
  },
  {
   "cell_type": "markdown",
   "metadata": {},
   "source": [
    "notatka"
   ]
  },
  {
   "cell_type": "markdown",
   "metadata": {},
   "source": [
    "## Fine Tuning"
   ]
  },
  {
   "cell_type": "markdown",
   "metadata": {},
   "source": [
    "notatka"
   ]
  },
  {
   "cell_type": "code",
   "execution_count": 41,
   "metadata": {},
   "outputs": [],
   "source": [
    "param_grid = {\n",
    "    # 'regressor__forest__n_estimators': [50, 100, 200],\n",
    "    'regressor__forest__max_depth': [None, 5],\n",
    "    # 'regressor__knn__n_neighbors': [2, 5, 10],\n",
    "    # 'regressor__tree__max_depth': [5, 25, 50],\n",
    "    # 'regressor__tree__min_samples_split': [2, 10, 20]\n",
    "}"
   ]
  },
  {
   "cell_type": "code",
   "execution_count": 42,
   "metadata": {},
   "outputs": [],
   "source": [
    "voting_gscv = GridSearchCV(estimator=voting_model, param_grid=param_grid, n_jobs=-1)"
   ]
  },
  {
   "cell_type": "markdown",
   "metadata": {},
   "source": [
    "notatka"
   ]
  },
  {
   "cell_type": "code",
   "execution_count": 43,
   "metadata": {},
   "outputs": [],
   "source": [
    "voting_gscv.fit(x_train, y_train)\n",
    "pass"
   ]
  },
  {
   "cell_type": "markdown",
   "metadata": {},
   "source": [
    "notatka"
   ]
  },
  {
   "cell_type": "code",
   "execution_count": 44,
   "metadata": {},
   "outputs": [
    {
     "data": {
      "text/plain": [
       "{'regressor__forest__max_depth': None}"
      ]
     },
     "execution_count": 44,
     "metadata": {},
     "output_type": "execute_result"
    }
   ],
   "source": [
    "voting_gscv.best_params_"
   ]
  },
  {
   "cell_type": "markdown",
   "metadata": {},
   "source": [
    "notatka"
   ]
  },
  {
   "cell_type": "code",
   "execution_count": 45,
   "metadata": {},
   "outputs": [],
   "source": [
    "y_pred = voting_gscv.predict(x_train)"
   ]
  },
  {
   "cell_type": "code",
   "execution_count": 46,
   "metadata": {},
   "outputs": [
    {
     "data": {
      "text/plain": [
       "(1196.9951266742087, 0.9878689266331786)"
      ]
     },
     "execution_count": 46,
     "metadata": {},
     "output_type": "execute_result"
    }
   ],
   "source": [
    "mae = mean_absolute_error(y_train, y_pred)\n",
    "r2 = r2_score(y_train, y_pred)\n",
    "mae, r2"
   ]
  },
  {
   "cell_type": "markdown",
   "metadata": {},
   "source": [
    "notatka"
   ]
  },
  {
   "cell_type": "markdown",
   "metadata": {},
   "source": [
    "# Podsumowanie"
   ]
  },
  {
   "cell_type": "markdown",
   "metadata": {},
   "source": [
    "notatka"
   ]
  },
  {
   "cell_type": "code",
   "execution_count": null,
   "metadata": {},
   "outputs": [],
   "source": []
  },
  {
   "cell_type": "markdown",
   "metadata": {},
   "source": [
    "notatka"
   ]
  },
  {
   "cell_type": "markdown",
   "metadata": {},
   "source": [
    "# Bibliografia"
   ]
  },
  {
   "cell_type": "markdown",
   "metadata": {},
   "source": [
    "notatka"
   ]
  },
  {
   "cell_type": "markdown",
   "metadata": {},
   "source": [
    "dane: OTOMOTO.pl"
   ]
  },
  {
   "cell_type": "markdown",
   "metadata": {},
   "source": [
    "wpisy do bibliotek:  \n",
    "- matplotlib\n",
    "- pandas\n",
    "- geopandas\n",
    "- sklearn\n",
    "- numpy\n",
    "  "
   ]
  }
 ],
 "metadata": {
  "kernelspec": {
   "display_name": "Python 3",
   "language": "python",
   "name": "python3"
  },
  "language_info": {
   "codemirror_mode": {
    "name": "ipython",
    "version": 3
   },
   "file_extension": ".py",
   "mimetype": "text/x-python",
   "name": "python",
   "nbconvert_exporter": "python",
   "pygments_lexer": "ipython3",
   "version": "3.11.5"
  }
 },
 "nbformat": 4,
 "nbformat_minor": 2
}
